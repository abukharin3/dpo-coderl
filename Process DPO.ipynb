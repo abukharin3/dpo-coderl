{
 "cells": [
  {
   "cell_type": "code",
   "execution_count": 16,
   "id": "c0a936b8",
   "metadata": {},
   "outputs": [],
   "source": [
    "import json\n",
    "import os\n",
    "import random"
   ]
  },
  {
   "cell_type": "code",
   "execution_count": 6,
   "id": "e40d3689",
   "metadata": {},
   "outputs": [],
   "source": [
    "def generate_prompt(test_case_path, prompt_path, starter_path=None):\n",
    "\n",
    "    _input = \"\\nQUESTION:\\n\"\n",
    "    with open(prompt_path, \"r\") as f:\n",
    "        data = f.readlines()\n",
    "        data = \"\".join(data)\n",
    "    _input += data\n",
    "\n",
    "    if starter_path != None:\n",
    "        with open(starter_path, \"r\") as f:\n",
    "            data = f.readlines()\n",
    "            data = \"\".join(data)\n",
    "            data = \"\\n\" + data \n",
    "        _input += data\n",
    "\n",
    "    if os.path.exists(test_case_path):\n",
    "        with open(test_case_path, \"r\") as f:\n",
    "            data = json.load(f)\n",
    "        if not data.get(\"fn_name\"):\n",
    "            _input += \"\\nUse Standard Input format\"\n",
    "        else:\n",
    "            _input += \"\\nUse Call-Based format\"\n",
    "    elif starter_path is not None and os.path.exists(starter_path):\n",
    "        _input += \"\\nUse Call-Based format\"\n",
    "    else:\n",
    "        _input += \"\\nUse Standard Input format\"\n",
    "\n",
    "    _input += \"\\nANSWER:\\n\"\n",
    "\n",
    "    return _input"
   ]
  },
  {
   "cell_type": "code",
   "execution_count": 18,
   "id": "43288105",
   "metadata": {},
   "outputs": [],
   "source": [
    "prompts = []\n",
    "chosen = []\n",
    "rejected = []\n",
    "\n",
    "files = os.listdir(\"APPS_RM/train\")\n",
    "for file in files:\n",
    "    if \".\" == file[0]:\n",
    "        continue\n",
    "    \n",
    "    prob_path = f\"APPS_RM/train/{file}\"\n",
    "    test_case_path = os.path.join(prob_path, \"input_output.json\")\n",
    "    prompt_path = os.path.join(prob_path, \"question.txt\")\n",
    "    starter_path = os.path.join(prob_path, \"starter_code.py\")\n",
    "    solutions_path = os.path.join(prob_path, \"gen_solutions.json\")\n",
    "    \n",
    "    if not os.path.exists(starter_path):\n",
    "        starter_path = None\n",
    "    \n",
    "    input_text = generate_prompt(test_case_path, prompt_path, starter_path)\n",
    "    \n",
    "    with open(solutions_path, \"r\") as f:\n",
    "        gen_solutions = json.load(f)\n",
    "    \n",
    "    random.shuffle(gen_solutions)\n",
    "    \n",
    "    chosen_solution = \"\"\n",
    "    rejected_solution = \"\"\n",
    "    for i in range(len(gen_solutions)):\n",
    "        result = gen_solutions[i][\"result\"]\n",
    "        if result == True:\n",
    "            chosen_solution = gen_solutions[i][\"code\"]\n",
    "        else:\n",
    "            rejected_solution = gen_solutions[i][\"code\"]\n",
    "    \n",
    "    if chosen_solution and rejected_solution:\n",
    "        prompts.append(input_text)\n",
    "        chosen.append(chosen_solution)\n",
    "        rejected.append(rejected_solution)\n",
    "        \n",
    "        \n",
    "with open(\"coderl_dpo.json\", \"w\") as f:\n",
    "    json.dump({\n",
    "        \"prompt\":prompts,\n",
    "        \"chosen\":chosen,\n",
    "        \"rejected\":rejected\n",
    "    }, f)"
   ]
  },
  {
   "cell_type": "code",
   "execution_count": 19,
   "id": "da2d7ed2",
   "metadata": {},
   "outputs": [
    {
     "name": "stdout",
     "output_type": "stream",
     "text": [
      "4382 4382 4382\n"
     ]
    }
   ],
   "source": [
    "print(len(prompts), len(chosen), len(rejected))"
   ]
  }
 ],
 "metadata": {
  "kernelspec": {
   "display_name": "Python 3 (ipykernel)",
   "language": "python",
   "name": "python3"
  },
  "language_info": {
   "codemirror_mode": {
    "name": "ipython",
    "version": 3
   },
   "file_extension": ".py",
   "mimetype": "text/x-python",
   "name": "python",
   "nbconvert_exporter": "python",
   "pygments_lexer": "ipython3",
   "version": "3.9.13"
  }
 },
 "nbformat": 4,
 "nbformat_minor": 5
}
